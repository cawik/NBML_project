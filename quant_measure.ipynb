{
 "cells": [
  {
   "cell_type": "code",
   "execution_count": 1,
   "metadata": {},
   "outputs": [
    {
     "name": "stdout",
     "output_type": "stream",
     "text": [
      "Requirement already satisfied: ffmpeg_quality_metrics in c:\\users\\johan\\anaconda3\\lib\\site-packages (0.3.10)\n",
      "Requirement already satisfied: pandas in c:\\users\\johan\\anaconda3\\lib\\site-packages (from ffmpeg_quality_metrics) (1.0.1)\n",
      "Requirement already satisfied: pytz>=2017.2 in c:\\users\\johan\\anaconda3\\lib\\site-packages (from pandas->ffmpeg_quality_metrics) (2019.3)\n",
      "Requirement already satisfied: numpy>=1.13.3 in c:\\users\\johan\\anaconda3\\lib\\site-packages (from pandas->ffmpeg_quality_metrics) (1.18.1)\n",
      "Requirement already satisfied: python-dateutil>=2.6.1 in c:\\users\\johan\\anaconda3\\lib\\site-packages (from pandas->ffmpeg_quality_metrics) (2.8.1)\n",
      "Requirement already satisfied: six>=1.5 in c:\\users\\johan\\anaconda3\\lib\\site-packages (from python-dateutil>=2.6.1->pandas->ffmpeg_quality_metrics) (1.14.0)\n"
     ]
    }
   ],
   "source": [
    "# Install ffmpeg-quality-metrics from https://pypi.org/project/ffmpeg-quality-metrics/\n",
    "# Make sure to also install \"FFmpeg\" from http://ffmpeg.org/download.html, and add it to PATH\n",
    "!pip install ffmpeg_quality_metrics"
   ]
  },
  {
   "cell_type": "code",
   "execution_count": 8,
   "metadata": {},
   "outputs": [],
   "source": [
    "# Put file.mp4 in the current directory, along with reference\n",
    "!ffmpeg_quality_metrics restored50_deepremaster.mp4 landscape_true_original.mp4 > quant_analysis.json"
   ]
  },
  {
   "cell_type": "code",
   "execution_count": 9,
   "metadata": {},
   "outputs": [],
   "source": [
    "import pandas as pd\n",
    "from statistics import mean\n",
    "\n",
    "json_obj = pd.read_json('quant_analysis.json')"
   ]
  },
  {
   "cell_type": "code",
   "execution_count": 12,
   "metadata": {},
   "outputs": [
    {
     "name": "stdout",
     "output_type": "stream",
     "text": [
      "PSNR: 25.903\n",
      " MSE: 167.60699680511183\n"
     ]
    }
   ],
   "source": [
    "## PSNR Measures\n",
    "\n",
    "psnr_all = list(json_obj.psnr)\n",
    "psnr_avg_all = mean(frame['psnr_avg'] for frame in psnr_all)\n",
    "mse_avg_all = mean(frame['mse_avg'] for frame in psnr_all)\n",
    "\n",
    "print(f'PSNR: {psnr_avg_all:.2f}\\n', f'MSE: {mse_avg_all:.2f}')"
   ]
  },
  {
   "cell_type": "code",
   "execution_count": 13,
   "metadata": {},
   "outputs": [
    {
     "name": "stdout",
     "output_type": "stream",
     "text": [
      "SSIM: 0.74\n"
     ]
    }
   ],
   "source": [
    "## SSIM Measures\n",
    "\n",
    "ssim_all = list(json_obj.ssim)\n",
    "ssim_avg_all = mean(frame['ssim_avg'] for frame in ssim_all)\n",
    "print(f'SSIM: {ssim_avg_all:.2f}')"
   ]
  },
  {
   "cell_type": "code",
   "execution_count": 7,
   "metadata": {},
   "outputs": [],
   "source": [
    "## VMAF Measures\n",
    "\n",
    "if 'vmaf' in json_obj.columns:\n",
    "    vmaf_all = list(json_obj.vmaf)\n",
    "    vmaf_avg_all = mean(frame['vmaf'] for frame in vmaf_all)\n",
    "    vmaf_avg_psnr = mean(frame['psnr'] for frame in vmaf_all)\n",
    "    vmaf_avg_ssim = mean(frame['ssim'] for frame in vmaf_all)"
   ]
  },
  {
   "cell_type": "code",
   "execution_count": 8,
   "metadata": {},
   "outputs": [
    {
     "name": "stdout",
     "output_type": "stream",
     "text": [
      "Index(['psnr', 'ssim', 'input_file_dist', 'input_file_ref'], dtype='object')\n"
     ]
    }
   ],
   "source": []
  },
  {
   "cell_type": "code",
   "execution_count": null,
   "metadata": {},
   "outputs": [],
   "source": []
  }
 ],
 "metadata": {
  "kernelspec": {
   "display_name": "Python 3",
   "language": "python",
   "name": "python3"
  },
  "language_info": {
   "codemirror_mode": {
    "name": "ipython",
    "version": 3
   },
   "file_extension": ".py",
   "mimetype": "text/x-python",
   "name": "python",
   "nbconvert_exporter": "python",
   "pygments_lexer": "ipython3",
   "version": "3.7.6"
  }
 },
 "nbformat": 4,
 "nbformat_minor": 4
}
