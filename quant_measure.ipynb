{
 "cells": [
  {
   "cell_type": "code",
   "execution_count": 2,
   "metadata": {},
   "outputs": [],
   "source": [
    "import pandas as pd\n",
    "from statistics import mean\n",
    "\n",
    "json_obj = pd.read_json('compare_restored_clean.json')"
   ]
  },
  {
   "cell_type": "code",
   "execution_count": 3,
   "metadata": {},
   "outputs": [],
   "source": [
    "## PSNR Measures\n",
    "\n",
    "psnr_all = list(json_obj.psnr)\n",
    "psnr_avg_all = mean(frame['psnr_avg'] for frame in psnr_all)\n",
    "mse_avg_all = mean(frame['mse_avg'] for frame in psnr_all)\n"
   ]
  },
  {
   "cell_type": "code",
   "execution_count": 4,
   "metadata": {},
   "outputs": [
    {
     "name": "stdout",
     "output_type": "stream",
     "text": [
      "0.821594249201278\n"
     ]
    }
   ],
   "source": [
    "## SSIM Measures\n",
    "\n",
    "ssim_all = list(json_obj.ssim)\n",
    "ssim_avg_all = mean(frame['ssim_avg'] for frame in ssim_all)\n",
    "print(ssim_avg_all)"
   ]
  },
  {
   "cell_type": "code",
   "execution_count": 7,
   "metadata": {},
   "outputs": [],
   "source": [
    "## VMAF Measures\n",
    "\n",
    "if 'vmaf' in json_obj.columns:\n",
    "    vmaf_all = list(json_obj.vmaf)\n",
    "    vmaf_avg_all = mean(frame['vmaf'] for frame in vmaf_all)\n",
    "    vmaf_avg_psnr = mean(frame['psnr'] for frame in vmaf_all)\n",
    "    vmaf_avg_ssim = mean(frame['ssim'] for frame in vmaf_all)"
   ]
  },
  {
   "cell_type": "code",
   "execution_count": 8,
   "metadata": {},
   "outputs": [
    {
     "name": "stdout",
     "output_type": "stream",
     "text": [
      "Index(['psnr', 'ssim', 'input_file_dist', 'input_file_ref'], dtype='object')\n"
     ]
    }
   ],
   "source": []
  },
  {
   "cell_type": "code",
   "execution_count": null,
   "metadata": {},
   "outputs": [],
   "source": []
  }
 ],
 "metadata": {
  "kernelspec": {
   "display_name": "Python 3",
   "language": "python",
   "name": "python3"
  },
  "language_info": {
   "codemirror_mode": {
    "name": "ipython",
    "version": 3
   },
   "file_extension": ".py",
   "mimetype": "text/x-python",
   "name": "python",
   "nbconvert_exporter": "python",
   "pygments_lexer": "ipython3",
   "version": "3.7.6"
  }
 },
 "nbformat": 4,
 "nbformat_minor": 4
}
