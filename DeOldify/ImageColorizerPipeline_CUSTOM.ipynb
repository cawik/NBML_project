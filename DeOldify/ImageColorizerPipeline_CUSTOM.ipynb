{
 "cells": [
  {
   "cell_type": "code",
   "execution_count": 1,
   "metadata": {},
   "outputs": [
    {
     "data": {
      "text/plain": [
       "<DeviceId.GPU0: 0>"
      ]
     },
     "execution_count": 1,
     "metadata": {},
     "output_type": "execute_result"
    }
   ],
   "source": [
    "#NOTE:  This must be the first call in order to work properly!\n",
    "# PUT THIS FILE INSIDE THE DEOLDIFY DIRECTORY WITH ALL OTHER COLORIZER NOTEBOOKS. MODIFY PATHS NEEDED, THEN IT SHOULD BE RUNNABLE\n",
    "from deoldify import device\n",
    "import os\n",
    "from deoldify.device_id import DeviceId\n",
    "#choices:  CPU, GPU0...GPU7\n",
    "device.set(device=DeviceId.GPU0)\n",
    "#device.set(device=DeviceId.CPU)"
   ]
  },
  {
   "cell_type": "code",
   "execution_count": 2,
   "metadata": {},
   "outputs": [
    {
     "name": "stdout",
     "output_type": "stream",
     "text": [
      "True\n"
     ]
    }
   ],
   "source": [
    "print(device.is_gpu())"
   ]
  },
  {
   "cell_type": "code",
   "execution_count": 3,
   "metadata": {},
   "outputs": [
    {
     "data": {
      "text/plain": [
       "0"
      ]
     },
     "execution_count": 3,
     "metadata": {},
     "output_type": "execute_result"
    }
   ],
   "source": [
    "import torch\n",
    "torch.cuda.current_device()"
   ]
  },
  {
   "cell_type": "code",
   "execution_count": 4,
   "metadata": {},
   "outputs": [],
   "source": [
    "from deoldify.visualize import *\n",
    "plt.style.use('dark_background')\n",
    "torch.backends.cudnn.benchmark=True"
   ]
  },
  {
   "cell_type": "code",
   "execution_count": 5,
   "metadata": {},
   "outputs": [],
   "source": [
    "input_dir = \"/src/nml_img_vid_enhance/_sample_data/colorpipe_test/in\"\n",
    "output_dir = \"/src/nml_img_vid_enhance/_sample_data/colorpipe_test/out\""
   ]
  },
  {
   "cell_type": "code",
   "execution_count": 6,
   "metadata": {},
   "outputs": [
    {
     "name": "stdout",
     "output_type": "stream",
     "text": [
      "RESULT DIR: /src/nml_img_vid_enhance/_sample_data/colorpipe_test/out\n"
     ]
    },
    {
     "name": "stderr",
     "output_type": "stream",
     "text": [
      "C:\\Users\\johan\\Anaconda3\\envs\\DeOldify\\lib\\site-packages\\fastai\\data_block.py:442: UserWarning: Your training set is empty. If this is by design, pass `ignore_empty=True` to remove this warning.\n",
      "  warn(\"Your training set is empty. If this is by design, pass `ignore_empty=True` to remove this warning.\")\n",
      "C:\\Users\\johan\\Anaconda3\\envs\\DeOldify\\lib\\site-packages\\fastai\\data_block.py:445: UserWarning: Your validation set is empty. If this is by design, use `split_none()`\n",
      "                 or pass `ignore_empty=True` when labelling to remove this warning.\n",
      "  or pass `ignore_empty=True` when labelling to remove this warning.\"\"\")\n"
     ]
    }
   ],
   "source": [
    "colorizer = get_image_colorizer(artistic=False, results_dir=output_dir)"
   ]
  },
  {
   "cell_type": "code",
   "execution_count": 15,
   "metadata": {},
   "outputs": [
    {
     "name": "stdout",
     "output_type": "stream",
     "text": [
      "Output path: /src/nml_img_vid_enhance/_sample_data/colorpipe_test/in/ \n",
      "\n",
      "Processing: denoised_frame_0.png\n",
      "Processing: denoised_frame_1.png\n",
      "Processing: test001.png\n",
      "Processing: test002.png\n",
      "Processing: test003.png\n",
      "Processing: test004.png\n",
      "Processing: test005.png\n",
      "Processing: test006.png\n",
      "Processing: test007.png\n",
      "Processing: test008.png\n",
      "Processing: test009.png\n",
      "Processing: test010.png\n",
      "Processing: test011.png\n",
      "Processing: test012.png\n",
      "Processing: test013.png\n",
      "Processing: test014.png\n",
      "Processing: test015.png\n",
      "Processing: test016.png\n",
      "Processing: test017.png\n",
      "Processing: test018.png\n",
      "Processing: test019.png\n",
      "Processing: test020.png\n",
      "Processing: test021.png\n",
      "Processing: test022.png\n",
      "Processing: test023.png\n",
      "Processing: test024.png\n",
      "Processing: test025.png\n",
      "Processing: test026.png\n",
      "Processing: test027.png\n",
      "Processing: test028.png\n",
      "Processing: test029.png\n",
      "Processing: test030.png\n",
      "Processing: test031.png\n",
      "Processing: test032.png\n",
      "Processing: test033.png\n",
      "Processing: test034.png\n",
      "Processing: test035.png\n",
      "Processing: test036.png\n",
      "Processing: test037.png\n",
      "Processing: test038.png\n",
      "Processing: test039.png\n",
      "Processing: test040.png\n",
      "\n",
      "Processing finished!\n",
      "\n"
     ]
    }
   ],
   "source": [
    "#NOTE:  Max is 45 with 11GB video cards. 35 is a good default\n",
    "render_factor=15\n",
    "\n",
    "source_path = input_dir\n",
    "print(f'Output directory: {source_path}/ \\n')\n",
    "for i, img in enumerate(os.listdir(source_path)):\n",
    "    print(f'Processing: {img}')\n",
    "    result_path = colorizer.plot_transformed_image(path=f'{source_path}/{img}', render_factor=render_factor, compare=True, do_plot=False)\n",
    "\n",
    "print(\"\\nProcessing finished!\\n\")\n",
    "\n",
    "result_path = None\n",
    "torch.cuda.empty_cache()"
   ]
  },
  {
   "cell_type": "code",
   "execution_count": 15,
   "metadata": {},
   "outputs": [],
   "source": []
  },
  {
   "cell_type": "code",
   "execution_count": null,
   "metadata": {},
   "outputs": [],
   "source": [
    "\n"
   ]
  },
  {
   "cell_type": "code",
   "execution_count": null,
   "metadata": {},
   "outputs": [],
   "source": []
  }
 ],
 "metadata": {
  "kernelspec": {
   "display_name": "Python 3",
   "language": "python",
   "name": "python3"
  },
  "language_info": {
   "codemirror_mode": {
    "name": "ipython",
    "version": 3
   },
   "file_extension": ".py",
   "mimetype": "text/x-python",
   "name": "python",
   "nbconvert_exporter": "python",
   "pygments_lexer": "ipython3",
   "version": "3.7.0"
  }
 },
 "nbformat": 4,
 "nbformat_minor": 4
}