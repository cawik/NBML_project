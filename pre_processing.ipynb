{
 "cells": [
  {
   "cell_type": "code",
   "execution_count": 106,
   "metadata": {},
   "outputs": [],
   "source": [
    "import cv2\n",
    "import numpy as np\n",
    "import os\n",
    "\n",
    "import ipywidgets as widgets\n",
    "from matplotlib import pyplot as plt\n",
    "from IPython.display import display"
   ]
  },
  {
   "cell_type": "code",
   "execution_count": 58,
   "metadata": {},
   "outputs": [],
   "source": [
    "def clipImport(filenumber):\n",
    "    filestr = str(filenumber)\n",
    "    video = cv2.VideoCapture(\"clips/\"+filestr)\n",
    "    return video"
   ]
  },
  {
   "cell_type": "code",
   "execution_count": 91,
   "metadata": {},
   "outputs": [],
   "source": [
    "cap = cv2.VideoCapture('clips/0.mp4')\n",
    " \n",
    "fourcc = cv2.VideoWriter_fourcc(*'XVID')\n",
    "out = cv2.VideoWriter('output.mp4',fourcc, 24, (512,512))\n",
    " \n",
    "while True:\n",
    "    ret, frame = cap.read()\n",
    "    if ret == True:\n",
    "        b = cv2.resize(frame,(512,512),fx=0,fy=0, interpolation = cv2.INTER_CUBIC)\n",
    "        out.write(b)\n",
    "    else:\n",
    "        break\n",
    "    \n",
    "cap.release()\n",
    "out.release()\n",
    "cv2.destroyAllWindows()"
   ]
  },
  {
   "cell_type": "code",
   "execution_count": 94,
   "metadata": {},
   "outputs": [
    {
     "ename": "TypeError",
     "evalue": "'NoneType' object is not subscriptable",
     "output_type": "error",
     "traceback": [
      "\u001b[1;31m---------------------------------------------------------------------------\u001b[0m",
      "\u001b[1;31mTypeError\u001b[0m                                 Traceback (most recent call last)",
      "\u001b[1;32m<ipython-input-94-a9f69f8a145d>\u001b[0m in \u001b[0;36m<module>\u001b[1;34m\u001b[0m\n\u001b[0;32m      7\u001b[0m \u001b[1;32mwhile\u001b[0m \u001b[1;32mTrue\u001b[0m\u001b[1;33m:\u001b[0m\u001b[1;33m\u001b[0m\u001b[1;33m\u001b[0m\u001b[0m\n\u001b[0;32m      8\u001b[0m     \u001b[0mret\u001b[0m\u001b[1;33m,\u001b[0m \u001b[0mframe\u001b[0m \u001b[1;33m=\u001b[0m \u001b[0mcap\u001b[0m\u001b[1;33m.\u001b[0m\u001b[0mread\u001b[0m\u001b[1;33m(\u001b[0m\u001b[1;33m)\u001b[0m\u001b[1;33m\u001b[0m\u001b[1;33m\u001b[0m\u001b[0m\n\u001b[1;32m----> 9\u001b[1;33m     \u001b[0msky\u001b[0m \u001b[1;33m=\u001b[0m \u001b[0mframe\u001b[0m\u001b[1;33m[\u001b[0m\u001b[1;36m104\u001b[0m\u001b[1;33m:\u001b[0m\u001b[1;36m616\u001b[0m\u001b[1;33m,\u001b[0m \u001b[1;36m384\u001b[0m\u001b[1;33m:\u001b[0m\u001b[1;36m896\u001b[0m\u001b[1;33m]\u001b[0m\u001b[1;33m\u001b[0m\u001b[1;33m\u001b[0m\u001b[0m\n\u001b[0m\u001b[0;32m     10\u001b[0m     \u001b[0mcv2\u001b[0m\u001b[1;33m.\u001b[0m\u001b[0mimshow\u001b[0m\u001b[1;33m(\u001b[0m\u001b[1;34m'Video'\u001b[0m\u001b[1;33m,\u001b[0m \u001b[0msky\u001b[0m\u001b[1;33m)\u001b[0m\u001b[1;33m\u001b[0m\u001b[1;33m\u001b[0m\u001b[0m\n\u001b[0;32m     11\u001b[0m \u001b[1;33m\u001b[0m\u001b[0m\n",
      "\u001b[1;31mTypeError\u001b[0m: 'NoneType' object is not subscriptable"
     ]
    }
   ],
   "source": [
    "cap = cv2.VideoCapture('clips/1.mp4')\n",
    "\n",
    "# (x, y, w, h) = cv2.boundingRect(c)\n",
    "# cv2.rectangle(frame, (x,y), (x+w, y+h), (0, 255, 0), 20)\n",
    "# roi = frame[y:y+h, x:x+w]\n",
    "\n",
    "while True:\n",
    "    ret, frame = cap.read()\n",
    "    sky = frame[104:616, 384:896]\n",
    "    cv2.imwrite('Video', sky)\n",
    "\n",
    "    if cv2.waitKey(1) == 27:\n",
    "        exit(0)"
   ]
  },
  {
   "cell_type": "code",
   "execution_count": 84,
   "metadata": {},
   "outputs": [
    {
     "name": "stdout",
     "output_type": "stream",
     "text": [
      "clips/frames/frame_0\n"
     ]
    },
    {
     "ename": "error",
     "evalue": "OpenCV(4.2.0) C:\\projects\\opencv-python\\opencv\\modules\\imgcodecs\\src\\loadsave.cpp:661: error: (-2:Unspecified error) could not find a writer for the specified extension in function 'cv::imwrite_'\n",
     "output_type": "error",
     "traceback": [
      "\u001b[1;31m---------------------------------------------------------------------------\u001b[0m",
      "\u001b[1;31merror\u001b[0m                                     Traceback (most recent call last)",
      "\u001b[1;32m<ipython-input-84-e797937288a2>\u001b[0m in \u001b[0;36m<module>\u001b[1;34m\u001b[0m\n\u001b[0;32m     13\u001b[0m \u001b[1;33m\u001b[0m\u001b[0m\n\u001b[0;32m     14\u001b[0m \u001b[0mfilm1\u001b[0m \u001b[1;33m=\u001b[0m \u001b[0mcv2\u001b[0m\u001b[1;33m.\u001b[0m\u001b[0mVideoCapture\u001b[0m\u001b[1;33m(\u001b[0m\u001b[1;34m\"clips/3.mp4\"\u001b[0m\u001b[1;33m)\u001b[0m\u001b[1;33m\u001b[0m\u001b[1;33m\u001b[0m\u001b[0m\n\u001b[1;32m---> 15\u001b[1;33m \u001b[0msplitFrames\u001b[0m\u001b[1;33m(\u001b[0m\u001b[0mfilm1\u001b[0m\u001b[1;33m)\u001b[0m\u001b[1;33m\u001b[0m\u001b[1;33m\u001b[0m\u001b[0m\n\u001b[0m",
      "\u001b[1;32m<ipython-input-84-e797937288a2>\u001b[0m in \u001b[0;36msplitFrames\u001b[1;34m(video)\u001b[0m\n\u001b[0;32m      8\u001b[0m         \u001b[1;32mif\u001b[0m \u001b[1;32mnot\u001b[0m \u001b[0mret\u001b[0m\u001b[1;33m:\u001b[0m\u001b[1;33m\u001b[0m\u001b[1;33m\u001b[0m\u001b[0m\n\u001b[0;32m      9\u001b[0m             \u001b[1;32mbreak\u001b[0m\u001b[1;33m\u001b[0m\u001b[1;33m\u001b[0m\u001b[0m\n\u001b[1;32m---> 10\u001b[1;33m         \u001b[0mcv2\u001b[0m\u001b[1;33m.\u001b[0m\u001b[0mimwrite\u001b[0m\u001b[1;33m(\u001b[0m\u001b[0mpath\u001b[0m\u001b[1;33m.\u001b[0m\u001b[0mformat\u001b[0m\u001b[1;33m(\u001b[0m\u001b[0mcounter\u001b[0m\u001b[1;33m)\u001b[0m\u001b[1;33m,\u001b[0m \u001b[0mframe\u001b[0m\u001b[1;33m)\u001b[0m\u001b[1;33m\u001b[0m\u001b[1;33m\u001b[0m\u001b[0m\n\u001b[0m\u001b[0;32m     11\u001b[0m         \u001b[0mcounter\u001b[0m \u001b[1;33m+=\u001b[0m \u001b[1;36m1\u001b[0m\u001b[1;33m\u001b[0m\u001b[1;33m\u001b[0m\u001b[0m\n\u001b[0;32m     12\u001b[0m     \u001b[0mvideo\u001b[0m\u001b[1;33m.\u001b[0m\u001b[0mrelease\u001b[0m\u001b[1;33m(\u001b[0m\u001b[1;33m)\u001b[0m\u001b[1;33m\u001b[0m\u001b[1;33m\u001b[0m\u001b[0m\n",
      "\u001b[1;31merror\u001b[0m: OpenCV(4.2.0) C:\\projects\\opencv-python\\opencv\\modules\\imgcodecs\\src\\loadsave.cpp:661: error: (-2:Unspecified error) could not find a writer for the specified extension in function 'cv::imwrite_'\n"
     ]
    }
   ],
   "source": [
    "def splitFrames(video):\n",
    "    ret, frame = video.read()\n",
    "    path = (\"clips/frames/frame_{}\")\n",
    "    counter = 0 \n",
    "    print(path.format(counter))\n",
    "    while ret:\n",
    "        ret, frame = video.read()\n",
    "        if not ret:\n",
    "            break\n",
    "        cv2.imwrite(path.format(counter), frame)\n",
    "        counter += 1\n",
    "    video.release()\n",
    "    \n",
    "film1 = cv2.VideoCapture(\"clips/3.mp4\")\n",
    "splitFrames(film1)"
   ]
  },
  {
   "cell_type": "code",
   "execution_count": 81,
   "metadata": {},
   "outputs": [
    {
     "name": "stdout",
     "output_type": "stream",
     "text": [
      "{'video_0': <VideoCapture 0000019CC34EC4F0>, 'video_1': <VideoCapture 0000019CC34EC2D0>, 'video_2': <VideoCapture 0000019CC34EC0B0>, 'video_3': <VideoCapture 0000019CC34EC350>, 'video_4': <VideoCapture 0000019CC34EC3D0>, 'video_5': <VideoCapture 0000019CC34EC070>, 'video_6': <VideoCapture 0000019CC34EC250>, 'video_7': <VideoCapture 0000019CC34EC450>, 'video_8': <VideoCapture 0000019CC59F28D0>, 'video_9': <VideoCapture 0000019CC59F2870>, 'video_10': <VideoCapture 0000019CC59F25F0>, 'video_11': <VideoCapture 0000019CC59F27D0>, 'video_12': <VideoCapture 0000019CC59F2730>, 'video_13': <VideoCapture 0000019CC59F2670>, 'video_14': <VideoCapture 0000019CC59F26D0>, 'video_15': <VideoCapture 0000019CC59F2690>, 'video_16': <VideoCapture 0000019CC59F2550>, 'video_17': <VideoCapture 0000019CC7212DF0>, 'video_18': <VideoCapture 0000019CC7212930>, 'video_19': <VideoCapture 0000019CC72122F0>, 'video_20': <VideoCapture 0000019CC7212690>, 'video_21': <VideoCapture 0000019CC72129B0>, 'video_22': <VideoCapture 0000019CC7212E30>, 'video_23': <VideoCapture 0000019CC7212D50>}\n"
     ]
    }
   ],
   "source": [
    "videoDict = {}\n",
    "for i in range(24):\n",
    "    videoDict[\"video_{0}\".format(i)] = clipImport(i)\n",
    "    splitFrames(videoDict[\"video_{0}\".format(i)])\n",
    "print(videoDict)"
   ]
  },
  {
   "cell_type": "code",
   "execution_count": 83,
   "metadata": {},
   "outputs": [
    {
     "data": {
      "application/vnd.jupyter.widget-view+json": {
       "model_id": "4436644c3b474c6c953fb898b1549b58",
       "version_major": 2,
       "version_minor": 0
      },
      "text/plain": [
       "Image(value=b'')"
      ]
     },
     "metadata": {},
     "output_type": "display_data"
    }
   ],
   "source": [
    "film = cv2.VideoCapture(\"clips/2.mp4\")\n",
    "disp = widgets.Image()\n",
    "display(disp)\n",
    "\n",
    "ret, frame = film.read()\n",
    "while ret:\n",
    "    ret, frame = film.read()\n",
    "    if not ret:\n",
    "        continue\n",
    "\n",
    "    display_image = cv2.imencode('.png', frame)[1].tostring()\n",
    "    disp.value = display_image\n",
    "video_reader.release()\n",
    "#splitFrames(film)"
   ]
  },
  {
   "cell_type": "code",
   "execution_count": 109,
   "metadata": {},
   "outputs": [],
   "source": [
    "\n",
    "\n",
    "def noisy(noise_typ,image):\n",
    "    if noise_typ == \"gauss\":\n",
    "        row,col,ch= image.shape\n",
    "        mean = 0\n",
    "        var = 0.1\n",
    "        sigma = var**0.5\n",
    "        gauss = np.random.normal(mean,sigma,(row,col,ch))\n",
    "        gauss = gauss.reshape(row,col,ch)\n",
    "        noisy = image + gauss\n",
    "        return noisy\n",
    "    elif noise_typ == \"s&p\":\n",
    "        row,col,ch = image.shape\n",
    "        s_vs_p = 0.5\n",
    "        amount = 0.004\n",
    "        out = np.copy(image)\n",
    "        # Salt mode\n",
    "        num_salt = np.ceil(amount * image.size * s_vs_p)\n",
    "        coords = [np.random.randint(0, i - 1, int(num_salt))\n",
    "                  for i in image.shape]\n",
    "        out[coords] = 1\n",
    "\n",
    "      # Pepper mode\n",
    "        num_pepper = np.ceil(amount* image.size * (1. - s_vs_p))\n",
    "        coords = [np.random.randint(0, i - 1, int(num_pepper))\n",
    "                  for i in image.shape]\n",
    "        out[coords] = 0\n",
    "        return out\n",
    "    elif noise_typ == \"poisson\":\n",
    "        vals = len(np.unique(image))\n",
    "        vals = 2 ** np.ceil(np.log2(vals))\n",
    "        noisy = np.random.poisson(image * vals) / float(vals)\n",
    "        return noisy\n",
    "    elif noise_typ ==\"speckle\":\n",
    "        row,col,ch = image.shape\n",
    "        gauss = np.random.randn(row,col,ch)\n",
    "        gauss = gauss.reshape(row,col,ch)        \n",
    "        noisy = image + image * gauss\n",
    "        return noisy"
   ]
  },
  {
   "cell_type": "code",
   "execution_count": 105,
   "metadata": {},
   "outputs": [
    {
     "name": "stdout",
     "output_type": "stream",
     "text": [
      "<class 'numpy.ndarray'>\n",
      "processed_clips/1/frame_0.png\n",
      "<class 'numpy.ndarray'>\n"
     ]
    }
   ],
   "source": [
    "output_filename = \"processed_clips/1/processed_1.mp4\"\n",
    "noised_output_filename = \"processed_clips/1/noised_1.mp4\"\n",
    "backend = cv2.CAP_ANY\n",
    "fourcc_code = cv2.VideoWriter_fourcc(*\"VP80\")\n",
    "fps = 24\n",
    "frame_size = (512, 512)\n",
    "output_video = cv2.VideoWriter(output_filename, backend, fourcc_code, fps, frame_size)\n",
    "noised_output_video = cv2.VideoWriter(noised_output_filename, backend, fourcc_code, fps, frame_size)\n",
    "\n",
    "input_video = cv2.VideoCapture(\"clips/1.mp4\")\n",
    "ret, frame = input_video.read()\n",
    "path = \"processed_clips/1/frame_{}.png\"\n",
    "print(type(frame))\n",
    "counter = 0\n",
    "print(path.format(counter))\n",
    "while ret:\n",
    "    ret, frame = input_video.read()\n",
    "    \n",
    "    if not ret:\n",
    "        break\n",
    "    cropped = frame[104:616, 384:896]\n",
    "    #location = path.format(counter)\n",
    "    cv2.imwrite(path.format(counter), cropped)\n",
    "    output_video.write(cropped)\n",
    "    counter += 1\n",
    "print(type(cropped))\n",
    "input_video.release()\n",
    "output_video.release()"
   ]
  }
 ],
 "metadata": {
  "kernelspec": {
   "display_name": "Python 3",
   "language": "python",
   "name": "python3"
  },
  "language_info": {
   "codemirror_mode": {
    "name": "ipython",
    "version": 3
   },
   "file_extension": ".py",
   "mimetype": "text/x-python",
   "name": "python",
   "nbconvert_exporter": "python",
   "pygments_lexer": "ipython3",
   "version": "3.7.6"
  }
 },
 "nbformat": 4,
 "nbformat_minor": 4
}
